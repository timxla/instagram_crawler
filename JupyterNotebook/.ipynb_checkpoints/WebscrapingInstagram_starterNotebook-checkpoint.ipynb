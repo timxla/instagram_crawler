{
 "cells": [
  {
   "cell_type": "markdown",
   "metadata": {},
   "source": [
    "# Webscraping Instagram with Selenium\n",
    "\n",
    "## Imports"
   ]
  },
  {
   "cell_type": "code",
   "execution_count": 1,
   "metadata": {},
   "outputs": [],
   "source": [
    "#Selenium imports here\n",
    "from selenium import webdriver\n",
    "from selenium.webdriver.common.keys import Keys\n",
    "from selenium.webdriver.support import expected_conditions as EC\n",
    "from selenium.webdriver.common.by import By\n",
    "from selenium.webdriver.support.wait import WebDriverWait"
   ]
  },
  {
   "cell_type": "code",
   "execution_count": 3,
   "metadata": {},
   "outputs": [],
   "source": [
    "#Other imports here\n",
    "import os\n",
    "import wget"
   ]
  },
  {
   "cell_type": "markdown",
   "metadata": {},
   "source": [
    "## Download Chrome Driver\n",
    "\n",
    "From: https://chromedriver.chromium.org/\n",
    "<br>\n",
    "And save in a location on your computer"
   ]
  },
  {
   "cell_type": "code",
   "execution_count": 4,
   "metadata": {},
   "outputs": [],
   "source": [
    "driver = webdriver.Chrome(\"./chromedriver\")\n",
    "driver.get(\"https://www.instagram.com/\")"
   ]
  },
  {
   "cell_type": "code",
   "execution_count": 4,
   "metadata": {},
   "outputs": [],
   "source": [
    "username = WebDriverWait(driver, 10).until(EC.element_to_be_clickable((By.CSS_SELECTOR, \"input[name='username']\")))\n",
    "password = WebDriverWait(driver, 10).until(EC.element_to_be_clickable((By.CSS_SELECTOR, \"input[name='password']\")))\n",
    "\n",
    "username.clear()\n",
    "password.clear()\n",
    "username.send_keys(\"findimage123\")\n",
    "password.send_keys(\"findimagecapstone\")"
   ]
  },
  {
   "cell_type": "code",
   "execution_count": 5,
   "metadata": {},
   "outputs": [],
   "source": [
    "driver.find_element_by_css_selector(\"div.v1Nh3.kIKUG._bz0w\").click()"
   ]
  },
  {
   "cell_type": "code",
   "execution_count": 25,
   "metadata": {},
   "outputs": [
    {
     "name": "stdout",
     "output_type": "stream",
     "text": [
      "Mar 25, 2022\n"
     ]
    }
   ],
   "source": [
    "print(driver.find_element_by_xpath(\"//time[@class='_1o9PC']\").get_attribute(\"title\"))"
   ]
  },
  {
   "cell_type": "code",
   "execution_count": 4,
   "metadata": {},
   "outputs": [
    {
     "name": "stdout",
     "output_type": "stream",
     "text": [
      "Mar 27, 2022\n"
     ]
    }
   ],
   "source": [
    "print(driver.find_element_by_xpath(\"//time[@class='_1o9PC']\").get_attribute(\"title\"))"
   ]
  },
  {
   "cell_type": "code",
   "execution_count": 7,
   "metadata": {},
   "outputs": [],
   "source": [
    "driver.find_element_by_css_selector(\"div.l8mY4.feth3\").click()"
   ]
  },
  {
   "cell_type": "code",
   "execution_count": 5,
   "metadata": {},
   "outputs": [],
   "source": [
    "from bs4 import BeautifulSoup"
   ]
  },
  {
   "cell_type": "code",
   "execution_count": 22,
   "metadata": {},
   "outputs": [],
   "source": [
    "soup = BeautifulSoup(html, 'html.parser')"
   ]
  },
  {
   "cell_type": "code",
   "execution_count": 10,
   "metadata": {},
   "outputs": [],
   "source": [
    "images = driver.find_elements_by_tag_name('img')"
   ]
  },
  {
   "cell_type": "code",
   "execution_count": 11,
   "metadata": {},
   "outputs": [
    {
     "name": "stdout",
     "output_type": "stream",
     "text": [
      "36\n"
     ]
    }
   ],
   "source": [
    "print(images)"
   ]
  },
  {
   "cell_type": "code",
   "execution_count": 25,
   "metadata": {},
   "outputs": [],
   "source": [
    "posts = soup.select('img')"
   ]
  },
  {
   "cell_type": "code",
   "execution_count": 26,
   "metadata": {},
   "outputs": [
    {
     "name": "stdout",
     "output_type": "stream",
     "text": [
      "60\n"
     ]
    }
   ],
   "source": [
    "print(len(posts))"
   ]
  },
  {
   "cell_type": "code",
   "execution_count": 24,
   "metadata": {},
   "outputs": [],
   "source": [
    "imagelink = image.get_attribute('src')"
   ]
  },
  {
   "cell_type": "code",
   "execution_count": 11,
   "metadata": {},
   "outputs": [
    {
     "name": "stdout",
     "output_type": "stream",
     "text": [
      "hi2022-05-08\n"
     ]
    }
   ],
   "source": [
    "from datetime import date\n",
    "\n",
    "print(\"hi\" + str(date.today()))"
   ]
  },
  {
   "cell_type": "code",
   "execution_count": 12,
   "metadata": {},
   "outputs": [
    {
     "name": "stdout",
     "output_type": "stream",
     "text": [
      "noheul.ing\n"
     ]
    }
   ],
   "source": [
    "print(driver.find_element_by_css_selector(\"div.e1e1d > div._7UhW9.xLCgt.qyrsm.KV-D4.uL8Hv.T0kll > span.Jv7Aj.mArmR.MqpiF > a.sqdOP.yWX7d._8A5w5.ZIAjV \").get_attribute(\"text\"))\n"
   ]
  },
  {
   "cell_type": "code",
   "execution_count": 6,
   "metadata": {},
   "outputs": [],
   "source": [
    "html = driver.page_source\n",
    "soup = BeautifulSoup(html, 'html.parser')"
   ]
  },
  {
   "cell_type": "code",
   "execution_count": 7,
   "metadata": {},
   "outputs": [
    {
     "name": "stdout",
     "output_type": "stream",
     "text": [
      "[<img alt=\"\" class=\"_7A2D8\" src=\"https://scontent-ssn1-1.cdninstagram.com/v/t51.2885-15/278394966_671663854096033_3433738440495978928_n.jpg?stp=dst-jpg_e15_p640x640&amp;_nc_ht=scontent-ssn1-1.cdninstagram.com&amp;_nc_cat=101&amp;_nc_ohc=-MVJYQrVlO8AX-5XhQe&amp;edm=ABZsPhsBAAAA&amp;ccb=7-4&amp;ig_cache_key=MjgxNTEzMTI4NTE5NDExNTY5Mg%3D%3D.2-ccb7-4&amp;oh=00_AT_91sYIXTSQiKO_55zAptwn0d8vFoijhHotSAVylzcK-w&amp;oe=625E9307&amp;_nc_sid=4efc9f\"/>, <img class=\"FFVAD\" crossorigin=\"anonymous\" decoding=\"auto\" sizes=\"293px\" src=\"https://scontent-ssn1-1.cdninstagram.com/v/t51.2885-15/278394966_671663854096033_3433738440495978928_n.jpg?stp=dst-jpg_e15_p640x640&amp;_nc_ht=scontent-ssn1-1.cdninstagram.com&amp;_nc_cat=101&amp;_nc_ohc=-MVJYQrVlO8AX-5XhQe&amp;edm=ABZsPhsBAAAA&amp;ccb=7-4&amp;ig_cache_key=MjgxNTEzMTI4NTE5NDExNTY5Mg%3D%3D.2-ccb7-4&amp;oh=00_AT_91sYIXTSQiKO_55zAptwn0d8vFoijhHotSAVylzcK-w&amp;oe=625E9307&amp;_nc_sid=4efc9f\" srcset=\"\" style=\"object-fit: cover;\"/>, <img class=\"FFVAD\" crossorigin=\"anonymous\" src=\"https://scontent-ssn1-1.cdninstagram.com/v/t51.2885-15/278434544_492293742630456_2366435823122360659_n.jpg?stp=dst-jpg_e35&amp;_nc_ht=scontent-ssn1-1.cdninstagram.com&amp;_nc_cat=100&amp;_nc_ohc=leuxg8zujIcAX-omFSW&amp;edm=ABZsPhsBAAAA&amp;ccb=7-4&amp;ig_cache_key=MjgxNTEwNTIwMjE2NzEyOTgyMw%3D%3D.2-ccb7-4&amp;oh=00_AT9vwT6AcOC4f8u8nI_vc4onyQ6FHykS4Em4evH0m90Rlg&amp;oe=625DB431&amp;_nc_sid=4efc9f\" style=\"object-fit: cover;\"/>, <img class=\"FFVAD\" crossorigin=\"anonymous\" src=\"https://scontent-ssn1-1.cdninstagram.com/v/t51.2885-15/278413698_1370300363443618_3099827359183410458_n.jpg?stp=dst-jpg_e35&amp;_nc_ht=scontent-ssn1-1.cdninstagram.com&amp;_nc_cat=110&amp;_nc_ohc=I9rdS7sR0z4AX8vhigT&amp;edm=ABZsPhsBAAAA&amp;ccb=7-4&amp;ig_cache_key=MjgxNTI0MDI0NTUwMTgzNDg2OQ%3D%3D.2-ccb7-4&amp;oh=00_AT9uJZyoCuRjqw4fZQhWfJtUvFfc1TNiDYw8RXt1-eDi-A&amp;oe=625CA741&amp;_nc_sid=4efc9f\" style=\"object-fit: cover;\"/>, <img class=\"FFVAD\" crossorigin=\"anonymous\" src=\"https://scontent-ssn1-1.cdninstagram.com/v/t51.2885-15/278217858_1175128886631787_7448328265201210303_n.jpg?stp=dst-jpg_e35&amp;_nc_ht=scontent-ssn1-1.cdninstagram.com&amp;_nc_cat=1&amp;_nc_ohc=hqXuLgBVo94AX80PQSN&amp;edm=ABZsPhsBAAAA&amp;ccb=7-4&amp;ig_cache_key=MjgxNTMwMDQ2Njk5NDA4OTE4MQ%3D%3D.2-ccb7-4&amp;oh=00_AT-ixevhPQkxEs1VqoRLPmOSoWwSIUS-Zneo7pt9ZiRLag&amp;oe=625D680B&amp;_nc_sid=4efc9f\" style=\"object-fit: cover;\"/>, <img class=\"FFVAD\" crossorigin=\"anonymous\" src=\"https://scontent-ssn1-1.cdninstagram.com/v/t51.2885-15/278474907_352466380269293_4321197383662525913_n.jpg?stp=dst-jpg_e35&amp;_nc_ht=scontent-ssn1-1.cdninstagram.com&amp;_nc_cat=105&amp;_nc_ohc=sJd06T60BysAX96CcVb&amp;edm=ABZsPhsBAAAA&amp;ccb=7-4&amp;ig_cache_key=MjgxNTMxNjc4MjkwOTU0MjM5OA%3D%3D.2-ccb7-4&amp;oh=00_AT_t2Fweifk2HexCJEl_arvYmW2Uw9NauEPGNuM5YbHorA&amp;oe=625E5D6E&amp;_nc_sid=4efc9f\" style=\"object-fit: cover;\"/>, <img class=\"FFVAD\" crossorigin=\"anonymous\" src=\"https://scontent-ssn1-1.cdninstagram.com/v/t51.2885-15/278208289_131114266162778_1908108897327039694_n.jpg?stp=dst-jpg_e35&amp;_nc_ht=scontent-ssn1-1.cdninstagram.com&amp;_nc_cat=102&amp;_nc_ohc=RQlCnSmiPT0AX9NwYEQ&amp;edm=ABZsPhsBAAAA&amp;ccb=7-4&amp;ig_cache_key=MjgxNTIxMzAwNTczNzIyNTY5MA%3D%3D.2-ccb7-4&amp;oh=00_AT-0vj3ea8E4YgM9S31cEA3XSwba2HLZOB5fsqIRyNjz2g&amp;oe=625E47D0&amp;_nc_sid=4efc9f\" style=\"object-fit: cover;\"/>, <img alt=\"Photo by 비트윈에이앤비 Between A and B on April 13, 2022. May be an image of 2 people, people standing and text that says 'GANN Û mini dress Banding jersey'.\" class=\"FFVAD\" crossorigin=\"anonymous\" src=\"https://scontent-ssn1-1.cdninstagram.com/v/t51.2885-15/278549275_1019237778721650_6881054512546310451_n.jpg?stp=dst-jpg_e35&amp;_nc_ht=scontent-ssn1-1.cdninstagram.com&amp;_nc_cat=106&amp;_nc_ohc=Fo0PG6j2QvwAX8SCUWa&amp;edm=ABZsPhsBAAAA&amp;ccb=7-4&amp;ig_cache_key=MjgxNTM4ODU1ODQ2MDQ2MjU5Mg%3D%3D.2-ccb7-4&amp;oh=00_AT9VbjKb7w9ZhZ0N3b-so-NFFCYeKf7CyfbFdpxrWinI1Q&amp;oe=625D9196&amp;_nc_sid=4efc9f\" style=\"object-fit: cover;\"/>, <img alt=\"Photo by 앤드지 ANDZ on April 13, 2022. May be an image of 1 person, standing and footwear.\" class=\"FFVAD\" crossorigin=\"anonymous\" src=\"https://scontent-ssn1-1.cdninstagram.com/v/t51.2885-15/278245239_344278111053797_5561316247066076293_n.jpg?stp=dst-jpg_e35&amp;_nc_ht=scontent-ssn1-1.cdninstagram.com&amp;_nc_cat=105&amp;_nc_ohc=ZJaeohSNpwUAX_Ttemc&amp;edm=ABZsPhsBAAAA&amp;ccb=7-4&amp;ig_cache_key=MjgxNTM3OTg4MDExMDA5NTMzNA%3D%3D.2-ccb7-4&amp;oh=00_AT-sqUPlP13jvzOSaDjupBOpsN-yatf7Uq4wA0zcyP4ktA&amp;oe=625D766D&amp;_nc_sid=4efc9f\" style=\"object-fit: cover;\"/>, <img alt=\"Photo by 므넴 in Seoul, Korea. May be an image of 1 person and standing.\" class=\"FFVAD\" crossorigin=\"anonymous\" src=\"https://scontent-ssn1-1.cdninstagram.com/v/t51.2885-15/278461168_388316536480561_6051302533686205376_n.jpg?stp=dst-jpg_e35&amp;_nc_ht=scontent-ssn1-1.cdninstagram.com&amp;_nc_cat=101&amp;_nc_ohc=q1uzyFleKyAAX8M-IJC&amp;edm=ABZsPhsBAAAA&amp;ccb=7-4&amp;ig_cache_key=MjgxNDgxNDUyMjkyNjUzNTUxOQ%3D%3D.2-ccb7-4&amp;oh=00_AT8oMgVHYhooIXPvqVUc42mafp7pmjrZSZbCNAT4azJm4A&amp;oe=625CD2B5&amp;_nc_sid=4efc9f\" style=\"object-fit: cover;\"/>, <img class=\"FFVAD\" crossorigin=\"anonymous\" src=\"https://scontent-ssn1-1.cdninstagram.com/v/t51.2885-15/278290550_1641409999560067_2968505923164369647_n.jpg?stp=dst-jpg_e35&amp;_nc_ht=scontent-ssn1-1.cdninstagram.com&amp;_nc_cat=107&amp;_nc_ohc=1wDdgqcag54AX8TMY9J&amp;tn=ubuAVeNBiqLV5m8k&amp;edm=ABZsPhsBAAAA&amp;ccb=7-4&amp;ig_cache_key=MjgxNTQ1MDgyMDAwNzk0MDYwNg%3D%3D.2-ccb7-4&amp;oh=00_AT_eTSOvsEIOdXgS-gtxx9rXh-JmhQsP7ypMfk8rTIb_nw&amp;oe=625DC540&amp;_nc_sid=4efc9f\" style=\"object-fit: cover;\"/>, <img class=\"FFVAD\" crossorigin=\"anonymous\" src=\"https://scontent-ssn1-1.cdninstagram.com/v/t51.2885-15/278307143_2147231982092414_2569504687476268568_n.jpg?stp=dst-jpg_e35&amp;_nc_ht=scontent-ssn1-1.cdninstagram.com&amp;_nc_cat=102&amp;_nc_ohc=uzvP6fZY01gAX9lDklu&amp;edm=ABZsPhsBAAAA&amp;ccb=7-4&amp;ig_cache_key=MjgxNTQ1MDg2ODUxOTE0NDE2Mg%3D%3D.2-ccb7-4&amp;oh=00_AT9sZC4wT5p15GPrr2tAChEeqX_roJwPeBllhPZG_vOZXQ&amp;oe=625E7182&amp;_nc_sid=4efc9f\" style=\"object-fit: cover;\"/>, <img class=\"FFVAD\" crossorigin=\"anonymous\" src=\"https://scontent-ssn1-1.cdninstagram.com/v/t51.2885-15/278355250_699717101443018_7750345455948519050_n.webp?stp=dst-jpg_e35&amp;_nc_ht=scontent-ssn1-1.cdninstagram.com&amp;_nc_cat=110&amp;_nc_ohc=s5sLN7NVkZgAX_Hhe4N&amp;edm=ABZsPhsBAAAA&amp;ccb=7-4&amp;ig_cache_key=MjgxNTQ1MDYwMDIzNDcxNjAyOA%3D%3D.2-ccb7-4&amp;oh=00_AT_gqOl_E0eemxNVCwdnnXg7c4T00LMlfmiDd1QEfw7c3Q&amp;oe=625D93DC&amp;_nc_sid=4efc9f\" style=\"object-fit: cover;\"/>, <img class=\"FFVAD\" crossorigin=\"anonymous\" src=\"https://scontent-ssn1-1.cdninstagram.com/v/t51.2885-15/278297025_715493186128922_5608575404691004469_n.webp?stp=dst-jpg_e35&amp;_nc_ht=scontent-ssn1-1.cdninstagram.com&amp;_nc_cat=102&amp;_nc_ohc=ZG7nd_g8ntAAX9chyEm&amp;edm=ABZsPhsBAAAA&amp;ccb=7-4&amp;ig_cache_key=MjgxNTQ1MDAzODAxNDg2NDE5Mg%3D%3D.2-ccb7-4&amp;oh=00_AT9uJvVRK5qu1gm6BHFBvqpfxJ4gemXZPWyzuJ8xMeRHug&amp;oe=625E0184&amp;_nc_sid=4efc9f\" style=\"object-fit: cover;\"/>, <img class=\"FFVAD\" crossorigin=\"anonymous\" src=\"https://scontent-ssn1-1.cdninstagram.com/v/t51.2885-15/278271151_361545075752509_2005960304571904929_n.jpg?stp=dst-jpg_e35&amp;_nc_ht=scontent-ssn1-1.cdninstagram.com&amp;_nc_cat=101&amp;_nc_ohc=sU_orTq_80EAX9hRPul&amp;edm=ABZsPhsBAAAA&amp;ccb=7-4&amp;ig_cache_key=MjgxNTQ1MDEwNTgzNjgyMjI2MQ%3D%3D.2-ccb7-4&amp;oh=00_AT8cyBoFZ3AbNfivAyitNADGuWQrP_RV6840sZxbjoDHcQ&amp;oe=625E2081&amp;_nc_sid=4efc9f\" style=\"object-fit: cover;\"/>, <img alt=\"Photo by @dbsdo0 on April 13, 2022. May be an image of 1 person, standing and indoor.\" class=\"FFVAD\" crossorigin=\"anonymous\" src=\"https://scontent-ssn1-1.cdninstagram.com/v/t51.2885-15/278297023_764515611184756_4324467059456645457_n.jpg?stp=dst-jpg_e35&amp;_nc_ht=scontent-ssn1-1.cdninstagram.com&amp;_nc_cat=104&amp;_nc_ohc=jBHz_J7bc8sAX-EuRaw&amp;edm=ABZsPhsBAAAA&amp;ccb=7-4&amp;ig_cache_key=MjgxNTQ1MDEyNzk3NDQ0NDMxMw%3D%3D.2-ccb7-4&amp;oh=00_AT_ae-NORgCCtRCtgdX2M0ydxAhim1u7qKuZ7RqvPVCfpg&amp;oe=625C9F60&amp;_nc_sid=4efc9f\" style=\"object-fit: cover;\"/>, <img alt=\"Photo by Number* 03 on April 13, 2022. May be an image of 1 person and indoor.\" class=\"FFVAD\" crossorigin=\"anonymous\" src=\"https://scontent-ssn1-1.cdninstagram.com/v/t51.2885-15/278463773_661777748386546_4591476227840653435_n.jpg?stp=dst-jpg_e35&amp;_nc_ht=scontent-ssn1-1.cdninstagram.com&amp;_nc_cat=110&amp;_nc_ohc=Gmue4bIPOZcAX8SSlbV&amp;edm=ABZsPhsBAAAA&amp;ccb=7-4&amp;ig_cache_key=MjgxNTQ0OTcxODA3MzQ1Mjg1MQ%3D%3D.2-ccb7-4&amp;oh=00_AT-ga7mnmXYw8EFRybn6hBgzkFXG-IPg-3QTKGiIlU12Lw&amp;oe=625DF50A&amp;_nc_sid=4efc9f\" style=\"object-fit: cover;\"/>, <img class=\"FFVAD\" crossorigin=\"anonymous\" src=\"https://scontent-ssn1-1.cdninstagram.com/v/t51.2885-15/278329218_128985206381543_114326752803877653_n.jpg?stp=dst-jpg_e35&amp;_nc_ht=scontent-ssn1-1.cdninstagram.com&amp;_nc_cat=111&amp;_nc_ohc=oMEbDcDH0IAAX9lLk6f&amp;edm=ABZsPhsBAAAA&amp;ccb=7-4&amp;ig_cache_key=MjgxNTQ0OTU2MDcwMzI0ODI1Nw%3D%3D.2-ccb7-4&amp;oh=00_AT9lWedMRG6wRM7R5O317Vashjx9qdPD8atJdfGue4Rz4A&amp;oe=625DF9EE&amp;_nc_sid=4efc9f\" style=\"object-fit: cover;\"/>, <img class=\"FFVAD\" crossorigin=\"anonymous\" src=\"https://scontent-ssn1-1.cdninstagram.com/v/t51.2885-15/278254344_575856203495043_7779795533562538388_n.jpg?stp=dst-jpg_e35&amp;_nc_ht=scontent-ssn1-1.cdninstagram.com&amp;_nc_cat=103&amp;_nc_ohc=uR7b-G-NU9sAX-fAA4D&amp;edm=ABZsPhsBAAAA&amp;ccb=7-4&amp;ig_cache_key=MjgxNTQ0OTkyNjA3NzM5NTM1Nw%3D%3D.2-ccb7-4&amp;oh=00_AT9D2Z4YXoA60Y7l4SZsQY0Cyapk1Mt2ugaUJfTbNe8Kjw&amp;oe=625E36DD&amp;_nc_sid=4efc9f\" style=\"object-fit: cover;\"/>, <img class=\"FFVAD\" crossorigin=\"anonymous\" src=\"https://scontent-ssn1-1.cdninstagram.com/v/t51.2885-15/278263721_313846354189514_3932942612684370720_n.jpg?stp=dst-jpg_e35&amp;_nc_ht=scontent-ssn1-1.cdninstagram.com&amp;_nc_cat=102&amp;_nc_ohc=QNdnMPZO5ZcAX-0s8NZ&amp;edm=ABZsPhsBAAAA&amp;ccb=7-4&amp;ig_cache_key=MjgxNTQ0OTg1NzYwMTI0MzEwMA%3D%3D.2-ccb7-4&amp;oh=00_AT9KZ_HcadNyEpEHdYWo7V6pw-qrnyqdzCvHrZ_ab2W1yw&amp;oe=625DC240&amp;_nc_sid=4efc9f\" style=\"object-fit: cover;\"/>, <img class=\"FFVAD\" crossorigin=\"anonymous\" src=\"https://scontent-ssn1-1.cdninstagram.com/v/t51.2885-15/278204161_399152808388727_1219348076048579585_n.jpg?stp=dst-jpg_e35&amp;_nc_ht=scontent-ssn1-1.cdninstagram.com&amp;_nc_cat=111&amp;_nc_ohc=pu3tsJQIinIAX_TcGMZ&amp;edm=ABZsPhsBAAAA&amp;ccb=7-4&amp;ig_cache_key=MjgxNTQ0OTc3Mjg1Nzg3MDQ1OQ%3D%3D.2-ccb7-4&amp;oh=00_AT9lWqJteOhAskyxBxzS-BLOZx5xSVni-APUw2icpTQ_Hg&amp;oe=625CDC87&amp;_nc_sid=4efc9f\" style=\"object-fit: cover;\"/>, <img alt=\"Photo by 스프링콤마🎐 on April 13, 2022. May be an image of 1 person, standing and indoor.\" class=\"FFVAD\" crossorigin=\"anonymous\" src=\"https://scontent-ssn1-1.cdninstagram.com/v/t51.2885-15/278282326_297148912563770_5542899974742324888_n.jpg?stp=dst-jpg_e35&amp;_nc_ht=scontent-ssn1-1.cdninstagram.com&amp;_nc_cat=102&amp;_nc_ohc=cW8ubY36q9cAX95fFDn&amp;edm=ABZsPhsBAAAA&amp;ccb=7-4&amp;ig_cache_key=MjgxNTQ1MDAyMDE2MjUwNDY4OA%3D%3D.2-ccb7-4&amp;oh=00_AT8wzsq1aHZds2kNPdn-JGg873Z7gOBUn6fWVZuSYCx-0g&amp;oe=625DB38C&amp;_nc_sid=4efc9f\" style=\"object-fit: cover;\"/>, <img alt=\"Instagram\" class=\"s4Iyt\" src=\"/static/images/web/mobile_nav_type_logo.png/735145cfe0a4.png\" srcset=\"/static/images/web/mobile_nav_type_logo-2x.png/1b47f9d0e595.png 2x\"/>, <img alt=\"findimage123's profile picture\" class=\"_6q-tv\" crossorigin=\"anonymous\" data-testid=\"user-avatar\" draggable=\"false\" src=\"https://scontent-sin6-1.cdninstagram.com/v/t51.2885-19/44884218_345707102882519_2446069589734326272_n.jpg?_nc_ht=scontent-sin6-1.cdninstagram.com&amp;_nc_cat=1&amp;_nc_ohc=zVDTFO-0v-UAX9543g1&amp;edm=AEVnrqQBAAAA&amp;ccb=7-4&amp;ig_cache_key=YW5vbnltb3VzX3Byb2ZpbGVfcGlj.2-ccb7-4&amp;oh=00_AT_nO7YIKGU6_ZeyJ8INs_VSBtT_jd_tqYfKLVZwF_lEaQ&amp;oe=625E1B0F&amp;_nc_sid=3ae735\"/>]\n"
     ]
    }
   ],
   "source": [
    "posts = soup.select('img')\n",
    "print(posts)"
   ]
  },
  {
   "cell_type": "code",
   "execution_count": 15,
   "metadata": {},
   "outputs": [],
   "source": [
    "post_data = {}\n",
    "DATE_XPATH = \"//time[@class='_1o9PC']\"\n",
    "ID_CSS = \"div.e1e1d > div._7UhW9.xLCgt.qyrsm.KV-D4.uL8Hv.T0kll > span.Jv7Aj.mArmR.MqpiF > a.sqdOP.yWX7d._8A5w5.ZIAjV\"\n",
    "RIGHT_ARROW = \"div.l8mY4.feth3\"\n",
    "post_data['first'] = []\n"
   ]
  },
  {
   "cell_type": "code",
   "execution_count": 24,
   "metadata": {},
   "outputs": [],
   "source": [
    "from pymongo import MongoClient\n",
    "from pymongo.server_api import ServerApi"
   ]
  },
  {
   "cell_type": "code",
   "execution_count": 28,
   "metadata": {},
   "outputs": [],
   "source": [
    "try:\n",
    "    print(driver.find_element_by_class_name(\"_7UhW9.xLCgt.qyrsm.KV-D4.fDxYl.T0kll > span\").get_attribute(\"innerHTML\"))\n",
    "except:\n",
    "    driver.find_element_by_css_selector(\"div.l8mY4.feth3\").click()"
   ]
  },
  {
   "cell_type": "code",
   "execution_count": 27,
   "metadata": {},
   "outputs": [
    {
     "ename": "SyntaxError",
     "evalue": "invalid syntax (1340842521.py, line 1)",
     "output_type": "error",
     "traceback": [
      "\u001b[0;36m  File \u001b[0;32m\"/var/folders/xv/vdm_74f57650mtgkncq_qh1r0000gn/T/ipykernel_2037/1340842521.py\"\u001b[0;36m, line \u001b[0;32m1\u001b[0m\n\u001b[0;31m    class=\"_7UhW9.xLCgt.qyrsm.KV-D4.fDxYl.T0kll \"\u001b[0m\n\u001b[0m         ^\u001b[0m\n\u001b[0;31mSyntaxError\u001b[0m\u001b[0;31m:\u001b[0m invalid syntax\n"
     ]
    }
   ],
   "source": [
    "class=\"_7UhW9.xLCgt.qyrsm.KV-D4.fDxYl.T0kll \""
   ]
  },
  {
   "cell_type": "code",
   "execution_count": null,
   "metadata": {},
   "outputs": [],
   "source": []
  },
  {
   "cell_type": "code",
   "execution_count": null,
   "metadata": {},
   "outputs": [],
   "source": []
  }
 ],
 "metadata": {
  "kernelspec": {
   "display_name": "Python 3 (ipykernel)",
   "language": "python",
   "name": "python3"
  },
  "language_info": {
   "codemirror_mode": {
    "name": "ipython",
    "version": 3
   },
   "file_extension": ".py",
   "mimetype": "text/x-python",
   "name": "python",
   "nbconvert_exporter": "python",
   "pygments_lexer": "ipython3",
   "version": "3.9.7"
  }
 },
 "nbformat": 4,
 "nbformat_minor": 4
}
